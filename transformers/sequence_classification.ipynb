{
  "nbformat": 4,
  "nbformat_minor": 0,
  "metadata": {
    "kernelspec": {
      "language": "python",
      "display_name": "Python 3",
      "name": "python3"
    },
    "language_info": {
      "name": "python",
      "version": "3.7.10",
      "mimetype": "text/x-python",
      "codemirror_mode": {
        "name": "ipython",
        "version": 3
      },
      "pygments_lexer": "ipython3",
      "nbconvert_exporter": "python",
      "file_extension": ".py"
    },
    "colab": {
      "name": "sequence-classification.ipynb",
      "provenance": [],
      "collapsed_sections": [],
      "include_colab_link": true
    },
    "accelerator": "GPU",
    "widgets": {
      "application/vnd.jupyter.widget-state+json": {
        "2073aea3f3064754928edd78390518f7": {
          "model_module": "@jupyter-widgets/controls",
          "model_name": "HBoxModel",
          "state": {
            "_view_name": "HBoxView",
            "_dom_classes": [],
            "_model_name": "HBoxModel",
            "_view_module": "@jupyter-widgets/controls",
            "_model_module_version": "1.5.0",
            "_view_count": null,
            "_view_module_version": "1.5.0",
            "box_style": "",
            "layout": "IPY_MODEL_23cd600c5b5b400685710388d7d9c091",
            "_model_module": "@jupyter-widgets/controls",
            "children": [
              "IPY_MODEL_0ea7f1f1d2ef4b2ea83273babfb95bdb",
              "IPY_MODEL_475c69d6109045f69d980c068f46729b"
            ]
          }
        },
        "23cd600c5b5b400685710388d7d9c091": {
          "model_module": "@jupyter-widgets/base",
          "model_name": "LayoutModel",
          "state": {
            "_view_name": "LayoutView",
            "grid_template_rows": null,
            "right": null,
            "justify_content": null,
            "_view_module": "@jupyter-widgets/base",
            "overflow": null,
            "_model_module_version": "1.2.0",
            "_view_count": null,
            "flex_flow": null,
            "width": null,
            "min_width": null,
            "border": null,
            "align_items": null,
            "bottom": null,
            "_model_module": "@jupyter-widgets/base",
            "top": null,
            "grid_column": null,
            "overflow_y": null,
            "overflow_x": null,
            "grid_auto_flow": null,
            "grid_area": null,
            "grid_template_columns": null,
            "flex": null,
            "_model_name": "LayoutModel",
            "justify_items": null,
            "grid_row": null,
            "max_height": null,
            "align_content": null,
            "visibility": null,
            "align_self": null,
            "height": null,
            "min_height": null,
            "padding": null,
            "grid_auto_rows": null,
            "grid_gap": null,
            "max_width": null,
            "order": null,
            "_view_module_version": "1.2.0",
            "grid_template_areas": null,
            "object_position": null,
            "object_fit": null,
            "grid_auto_columns": null,
            "margin": null,
            "display": null,
            "left": null
          }
        },
        "0ea7f1f1d2ef4b2ea83273babfb95bdb": {
          "model_module": "@jupyter-widgets/controls",
          "model_name": "FloatProgressModel",
          "state": {
            "_view_name": "ProgressView",
            "style": "IPY_MODEL_5491364618a94110b6d5533d1558b20e",
            "_dom_classes": [],
            "description": "Downloading: 100%",
            "_model_name": "FloatProgressModel",
            "bar_style": "success",
            "max": 442,
            "_view_module": "@jupyter-widgets/controls",
            "_model_module_version": "1.5.0",
            "value": 442,
            "_view_count": null,
            "_view_module_version": "1.5.0",
            "orientation": "horizontal",
            "min": 0,
            "description_tooltip": null,
            "_model_module": "@jupyter-widgets/controls",
            "layout": "IPY_MODEL_dc41fb16cfc1400b8541aa26b4a978c8"
          }
        },
        "475c69d6109045f69d980c068f46729b": {
          "model_module": "@jupyter-widgets/controls",
          "model_name": "HTMLModel",
          "state": {
            "_view_name": "HTMLView",
            "style": "IPY_MODEL_e5553a67b406443092df85de1c08b852",
            "_dom_classes": [],
            "description": "",
            "_model_name": "HTMLModel",
            "placeholder": "​",
            "_view_module": "@jupyter-widgets/controls",
            "_model_module_version": "1.5.0",
            "value": " 442/442 [02:23&lt;00:00, 3.08B/s]",
            "_view_count": null,
            "_view_module_version": "1.5.0",
            "description_tooltip": null,
            "_model_module": "@jupyter-widgets/controls",
            "layout": "IPY_MODEL_af6eb4b8c9204180b9058988d0448a79"
          }
        },
        "5491364618a94110b6d5533d1558b20e": {
          "model_module": "@jupyter-widgets/controls",
          "model_name": "ProgressStyleModel",
          "state": {
            "_view_name": "StyleView",
            "_model_name": "ProgressStyleModel",
            "description_width": "initial",
            "_view_module": "@jupyter-widgets/base",
            "_model_module_version": "1.5.0",
            "_view_count": null,
            "_view_module_version": "1.2.0",
            "bar_color": null,
            "_model_module": "@jupyter-widgets/controls"
          }
        },
        "dc41fb16cfc1400b8541aa26b4a978c8": {
          "model_module": "@jupyter-widgets/base",
          "model_name": "LayoutModel",
          "state": {
            "_view_name": "LayoutView",
            "grid_template_rows": null,
            "right": null,
            "justify_content": null,
            "_view_module": "@jupyter-widgets/base",
            "overflow": null,
            "_model_module_version": "1.2.0",
            "_view_count": null,
            "flex_flow": null,
            "width": null,
            "min_width": null,
            "border": null,
            "align_items": null,
            "bottom": null,
            "_model_module": "@jupyter-widgets/base",
            "top": null,
            "grid_column": null,
            "overflow_y": null,
            "overflow_x": null,
            "grid_auto_flow": null,
            "grid_area": null,
            "grid_template_columns": null,
            "flex": null,
            "_model_name": "LayoutModel",
            "justify_items": null,
            "grid_row": null,
            "max_height": null,
            "align_content": null,
            "visibility": null,
            "align_self": null,
            "height": null,
            "min_height": null,
            "padding": null,
            "grid_auto_rows": null,
            "grid_gap": null,
            "max_width": null,
            "order": null,
            "_view_module_version": "1.2.0",
            "grid_template_areas": null,
            "object_position": null,
            "object_fit": null,
            "grid_auto_columns": null,
            "margin": null,
            "display": null,
            "left": null
          }
        },
        "e5553a67b406443092df85de1c08b852": {
          "model_module": "@jupyter-widgets/controls",
          "model_name": "DescriptionStyleModel",
          "state": {
            "_view_name": "StyleView",
            "_model_name": "DescriptionStyleModel",
            "description_width": "",
            "_view_module": "@jupyter-widgets/base",
            "_model_module_version": "1.5.0",
            "_view_count": null,
            "_view_module_version": "1.2.0",
            "_model_module": "@jupyter-widgets/controls"
          }
        },
        "af6eb4b8c9204180b9058988d0448a79": {
          "model_module": "@jupyter-widgets/base",
          "model_name": "LayoutModel",
          "state": {
            "_view_name": "LayoutView",
            "grid_template_rows": null,
            "right": null,
            "justify_content": null,
            "_view_module": "@jupyter-widgets/base",
            "overflow": null,
            "_model_module_version": "1.2.0",
            "_view_count": null,
            "flex_flow": null,
            "width": null,
            "min_width": null,
            "border": null,
            "align_items": null,
            "bottom": null,
            "_model_module": "@jupyter-widgets/base",
            "top": null,
            "grid_column": null,
            "overflow_y": null,
            "overflow_x": null,
            "grid_auto_flow": null,
            "grid_area": null,
            "grid_template_columns": null,
            "flex": null,
            "_model_name": "LayoutModel",
            "justify_items": null,
            "grid_row": null,
            "max_height": null,
            "align_content": null,
            "visibility": null,
            "align_self": null,
            "height": null,
            "min_height": null,
            "padding": null,
            "grid_auto_rows": null,
            "grid_gap": null,
            "max_width": null,
            "order": null,
            "_view_module_version": "1.2.0",
            "grid_template_areas": null,
            "object_position": null,
            "object_fit": null,
            "grid_auto_columns": null,
            "margin": null,
            "display": null,
            "left": null
          }
        },
        "79bab6f2290b4deea0f651f612f288ee": {
          "model_module": "@jupyter-widgets/controls",
          "model_name": "HBoxModel",
          "state": {
            "_view_name": "HBoxView",
            "_dom_classes": [],
            "_model_name": "HBoxModel",
            "_view_module": "@jupyter-widgets/controls",
            "_model_module_version": "1.5.0",
            "_view_count": null,
            "_view_module_version": "1.5.0",
            "box_style": "",
            "layout": "IPY_MODEL_103c2ba0b35f4d0ebb03d1472dc6c05f",
            "_model_module": "@jupyter-widgets/controls",
            "children": [
              "IPY_MODEL_2cb5090fcb694c57b7a2ff73bf820c97",
              "IPY_MODEL_34c00515b6d84556ab85a3763818e51c"
            ]
          }
        },
        "103c2ba0b35f4d0ebb03d1472dc6c05f": {
          "model_module": "@jupyter-widgets/base",
          "model_name": "LayoutModel",
          "state": {
            "_view_name": "LayoutView",
            "grid_template_rows": null,
            "right": null,
            "justify_content": null,
            "_view_module": "@jupyter-widgets/base",
            "overflow": null,
            "_model_module_version": "1.2.0",
            "_view_count": null,
            "flex_flow": null,
            "width": null,
            "min_width": null,
            "border": null,
            "align_items": null,
            "bottom": null,
            "_model_module": "@jupyter-widgets/base",
            "top": null,
            "grid_column": null,
            "overflow_y": null,
            "overflow_x": null,
            "grid_auto_flow": null,
            "grid_area": null,
            "grid_template_columns": null,
            "flex": null,
            "_model_name": "LayoutModel",
            "justify_items": null,
            "grid_row": null,
            "max_height": null,
            "align_content": null,
            "visibility": null,
            "align_self": null,
            "height": null,
            "min_height": null,
            "padding": null,
            "grid_auto_rows": null,
            "grid_gap": null,
            "max_width": null,
            "order": null,
            "_view_module_version": "1.2.0",
            "grid_template_areas": null,
            "object_position": null,
            "object_fit": null,
            "grid_auto_columns": null,
            "margin": null,
            "display": null,
            "left": null
          }
        },
        "2cb5090fcb694c57b7a2ff73bf820c97": {
          "model_module": "@jupyter-widgets/controls",
          "model_name": "FloatProgressModel",
          "state": {
            "_view_name": "ProgressView",
            "style": "IPY_MODEL_2d789602d5bb4ed1a9ec8c02600046c9",
            "_dom_classes": [],
            "description": "Downloading: 100%",
            "_model_name": "FloatProgressModel",
            "bar_style": "success",
            "max": 231508,
            "_view_module": "@jupyter-widgets/controls",
            "_model_module_version": "1.5.0",
            "value": 231508,
            "_view_count": null,
            "_view_module_version": "1.5.0",
            "orientation": "horizontal",
            "min": 0,
            "description_tooltip": null,
            "_model_module": "@jupyter-widgets/controls",
            "layout": "IPY_MODEL_16e145b8cbbf408f945673e720014248"
          }
        },
        "34c00515b6d84556ab85a3763818e51c": {
          "model_module": "@jupyter-widgets/controls",
          "model_name": "HTMLModel",
          "state": {
            "_view_name": "HTMLView",
            "style": "IPY_MODEL_5e79650910734e6bad387fa01d34fddd",
            "_dom_classes": [],
            "description": "",
            "_model_name": "HTMLModel",
            "placeholder": "​",
            "_view_module": "@jupyter-widgets/controls",
            "_model_module_version": "1.5.0",
            "value": " 232k/232k [00:00&lt;00:00, 323kB/s]",
            "_view_count": null,
            "_view_module_version": "1.5.0",
            "description_tooltip": null,
            "_model_module": "@jupyter-widgets/controls",
            "layout": "IPY_MODEL_e28903f246f141e0ab5a91f22f0b4f81"
          }
        },
        "2d789602d5bb4ed1a9ec8c02600046c9": {
          "model_module": "@jupyter-widgets/controls",
          "model_name": "ProgressStyleModel",
          "state": {
            "_view_name": "StyleView",
            "_model_name": "ProgressStyleModel",
            "description_width": "initial",
            "_view_module": "@jupyter-widgets/base",
            "_model_module_version": "1.5.0",
            "_view_count": null,
            "_view_module_version": "1.2.0",
            "bar_color": null,
            "_model_module": "@jupyter-widgets/controls"
          }
        },
        "16e145b8cbbf408f945673e720014248": {
          "model_module": "@jupyter-widgets/base",
          "model_name": "LayoutModel",
          "state": {
            "_view_name": "LayoutView",
            "grid_template_rows": null,
            "right": null,
            "justify_content": null,
            "_view_module": "@jupyter-widgets/base",
            "overflow": null,
            "_model_module_version": "1.2.0",
            "_view_count": null,
            "flex_flow": null,
            "width": null,
            "min_width": null,
            "border": null,
            "align_items": null,
            "bottom": null,
            "_model_module": "@jupyter-widgets/base",
            "top": null,
            "grid_column": null,
            "overflow_y": null,
            "overflow_x": null,
            "grid_auto_flow": null,
            "grid_area": null,
            "grid_template_columns": null,
            "flex": null,
            "_model_name": "LayoutModel",
            "justify_items": null,
            "grid_row": null,
            "max_height": null,
            "align_content": null,
            "visibility": null,
            "align_self": null,
            "height": null,
            "min_height": null,
            "padding": null,
            "grid_auto_rows": null,
            "grid_gap": null,
            "max_width": null,
            "order": null,
            "_view_module_version": "1.2.0",
            "grid_template_areas": null,
            "object_position": null,
            "object_fit": null,
            "grid_auto_columns": null,
            "margin": null,
            "display": null,
            "left": null
          }
        },
        "5e79650910734e6bad387fa01d34fddd": {
          "model_module": "@jupyter-widgets/controls",
          "model_name": "DescriptionStyleModel",
          "state": {
            "_view_name": "StyleView",
            "_model_name": "DescriptionStyleModel",
            "description_width": "",
            "_view_module": "@jupyter-widgets/base",
            "_model_module_version": "1.5.0",
            "_view_count": null,
            "_view_module_version": "1.2.0",
            "_model_module": "@jupyter-widgets/controls"
          }
        },
        "e28903f246f141e0ab5a91f22f0b4f81": {
          "model_module": "@jupyter-widgets/base",
          "model_name": "LayoutModel",
          "state": {
            "_view_name": "LayoutView",
            "grid_template_rows": null,
            "right": null,
            "justify_content": null,
            "_view_module": "@jupyter-widgets/base",
            "overflow": null,
            "_model_module_version": "1.2.0",
            "_view_count": null,
            "flex_flow": null,
            "width": null,
            "min_width": null,
            "border": null,
            "align_items": null,
            "bottom": null,
            "_model_module": "@jupyter-widgets/base",
            "top": null,
            "grid_column": null,
            "overflow_y": null,
            "overflow_x": null,
            "grid_auto_flow": null,
            "grid_area": null,
            "grid_template_columns": null,
            "flex": null,
            "_model_name": "LayoutModel",
            "justify_items": null,
            "grid_row": null,
            "max_height": null,
            "align_content": null,
            "visibility": null,
            "align_self": null,
            "height": null,
            "min_height": null,
            "padding": null,
            "grid_auto_rows": null,
            "grid_gap": null,
            "max_width": null,
            "order": null,
            "_view_module_version": "1.2.0",
            "grid_template_areas": null,
            "object_position": null,
            "object_fit": null,
            "grid_auto_columns": null,
            "margin": null,
            "display": null,
            "left": null
          }
        },
        "073ba265e5f64038877601a1703296c9": {
          "model_module": "@jupyter-widgets/controls",
          "model_name": "HBoxModel",
          "state": {
            "_view_name": "HBoxView",
            "_dom_classes": [],
            "_model_name": "HBoxModel",
            "_view_module": "@jupyter-widgets/controls",
            "_model_module_version": "1.5.0",
            "_view_count": null,
            "_view_module_version": "1.5.0",
            "box_style": "",
            "layout": "IPY_MODEL_3e6441fe48614e42b759fcc3d6f98878",
            "_model_module": "@jupyter-widgets/controls",
            "children": [
              "IPY_MODEL_8c04873585e94026860ad99b3ea93b26",
              "IPY_MODEL_da4a5dc0b65040e68c3e6e9c29a2021f"
            ]
          }
        },
        "3e6441fe48614e42b759fcc3d6f98878": {
          "model_module": "@jupyter-widgets/base",
          "model_name": "LayoutModel",
          "state": {
            "_view_name": "LayoutView",
            "grid_template_rows": null,
            "right": null,
            "justify_content": null,
            "_view_module": "@jupyter-widgets/base",
            "overflow": null,
            "_model_module_version": "1.2.0",
            "_view_count": null,
            "flex_flow": null,
            "width": null,
            "min_width": null,
            "border": null,
            "align_items": null,
            "bottom": null,
            "_model_module": "@jupyter-widgets/base",
            "top": null,
            "grid_column": null,
            "overflow_y": null,
            "overflow_x": null,
            "grid_auto_flow": null,
            "grid_area": null,
            "grid_template_columns": null,
            "flex": null,
            "_model_name": "LayoutModel",
            "justify_items": null,
            "grid_row": null,
            "max_height": null,
            "align_content": null,
            "visibility": null,
            "align_self": null,
            "height": null,
            "min_height": null,
            "padding": null,
            "grid_auto_rows": null,
            "grid_gap": null,
            "max_width": null,
            "order": null,
            "_view_module_version": "1.2.0",
            "grid_template_areas": null,
            "object_position": null,
            "object_fit": null,
            "grid_auto_columns": null,
            "margin": null,
            "display": null,
            "left": null
          }
        },
        "8c04873585e94026860ad99b3ea93b26": {
          "model_module": "@jupyter-widgets/controls",
          "model_name": "FloatProgressModel",
          "state": {
            "_view_name": "ProgressView",
            "style": "IPY_MODEL_dff9fc8d9dd7425d907321ca0132234f",
            "_dom_classes": [],
            "description": "Downloading: 100%",
            "_model_name": "FloatProgressModel",
            "bar_style": "success",
            "max": 466062,
            "_view_module": "@jupyter-widgets/controls",
            "_model_module_version": "1.5.0",
            "value": 466062,
            "_view_count": null,
            "_view_module_version": "1.5.0",
            "orientation": "horizontal",
            "min": 0,
            "description_tooltip": null,
            "_model_module": "@jupyter-widgets/controls",
            "layout": "IPY_MODEL_7359456cc84141ec96165f8135586c78"
          }
        },
        "da4a5dc0b65040e68c3e6e9c29a2021f": {
          "model_module": "@jupyter-widgets/controls",
          "model_name": "HTMLModel",
          "state": {
            "_view_name": "HTMLView",
            "style": "IPY_MODEL_7d0762d18a864b98bdde550d33905848",
            "_dom_classes": [],
            "description": "",
            "_model_name": "HTMLModel",
            "placeholder": "​",
            "_view_module": "@jupyter-widgets/controls",
            "_model_module_version": "1.5.0",
            "value": " 466k/466k [02:22&lt;00:00, 3.28kB/s]",
            "_view_count": null,
            "_view_module_version": "1.5.0",
            "description_tooltip": null,
            "_model_module": "@jupyter-widgets/controls",
            "layout": "IPY_MODEL_bef26b20f1ea4e91a54586109e04654d"
          }
        },
        "dff9fc8d9dd7425d907321ca0132234f": {
          "model_module": "@jupyter-widgets/controls",
          "model_name": "ProgressStyleModel",
          "state": {
            "_view_name": "StyleView",
            "_model_name": "ProgressStyleModel",
            "description_width": "initial",
            "_view_module": "@jupyter-widgets/base",
            "_model_module_version": "1.5.0",
            "_view_count": null,
            "_view_module_version": "1.2.0",
            "bar_color": null,
            "_model_module": "@jupyter-widgets/controls"
          }
        },
        "7359456cc84141ec96165f8135586c78": {
          "model_module": "@jupyter-widgets/base",
          "model_name": "LayoutModel",
          "state": {
            "_view_name": "LayoutView",
            "grid_template_rows": null,
            "right": null,
            "justify_content": null,
            "_view_module": "@jupyter-widgets/base",
            "overflow": null,
            "_model_module_version": "1.2.0",
            "_view_count": null,
            "flex_flow": null,
            "width": null,
            "min_width": null,
            "border": null,
            "align_items": null,
            "bottom": null,
            "_model_module": "@jupyter-widgets/base",
            "top": null,
            "grid_column": null,
            "overflow_y": null,
            "overflow_x": null,
            "grid_auto_flow": null,
            "grid_area": null,
            "grid_template_columns": null,
            "flex": null,
            "_model_name": "LayoutModel",
            "justify_items": null,
            "grid_row": null,
            "max_height": null,
            "align_content": null,
            "visibility": null,
            "align_self": null,
            "height": null,
            "min_height": null,
            "padding": null,
            "grid_auto_rows": null,
            "grid_gap": null,
            "max_width": null,
            "order": null,
            "_view_module_version": "1.2.0",
            "grid_template_areas": null,
            "object_position": null,
            "object_fit": null,
            "grid_auto_columns": null,
            "margin": null,
            "display": null,
            "left": null
          }
        },
        "7d0762d18a864b98bdde550d33905848": {
          "model_module": "@jupyter-widgets/controls",
          "model_name": "DescriptionStyleModel",
          "state": {
            "_view_name": "StyleView",
            "_model_name": "DescriptionStyleModel",
            "description_width": "",
            "_view_module": "@jupyter-widgets/base",
            "_model_module_version": "1.5.0",
            "_view_count": null,
            "_view_module_version": "1.2.0",
            "_model_module": "@jupyter-widgets/controls"
          }
        },
        "bef26b20f1ea4e91a54586109e04654d": {
          "model_module": "@jupyter-widgets/base",
          "model_name": "LayoutModel",
          "state": {
            "_view_name": "LayoutView",
            "grid_template_rows": null,
            "right": null,
            "justify_content": null,
            "_view_module": "@jupyter-widgets/base",
            "overflow": null,
            "_model_module_version": "1.2.0",
            "_view_count": null,
            "flex_flow": null,
            "width": null,
            "min_width": null,
            "border": null,
            "align_items": null,
            "bottom": null,
            "_model_module": "@jupyter-widgets/base",
            "top": null,
            "grid_column": null,
            "overflow_y": null,
            "overflow_x": null,
            "grid_auto_flow": null,
            "grid_area": null,
            "grid_template_columns": null,
            "flex": null,
            "_model_name": "LayoutModel",
            "justify_items": null,
            "grid_row": null,
            "max_height": null,
            "align_content": null,
            "visibility": null,
            "align_self": null,
            "height": null,
            "min_height": null,
            "padding": null,
            "grid_auto_rows": null,
            "grid_gap": null,
            "max_width": null,
            "order": null,
            "_view_module_version": "1.2.0",
            "grid_template_areas": null,
            "object_position": null,
            "object_fit": null,
            "grid_auto_columns": null,
            "margin": null,
            "display": null,
            "left": null
          }
        },
        "682e92d8dc44414392ef80124e6ce6b6": {
          "model_module": "@jupyter-widgets/controls",
          "model_name": "HBoxModel",
          "state": {
            "_view_name": "HBoxView",
            "_dom_classes": [],
            "_model_name": "HBoxModel",
            "_view_module": "@jupyter-widgets/controls",
            "_model_module_version": "1.5.0",
            "_view_count": null,
            "_view_module_version": "1.5.0",
            "box_style": "",
            "layout": "IPY_MODEL_71f8611610c74fbea5e11437206b6bd4",
            "_model_module": "@jupyter-widgets/controls",
            "children": [
              "IPY_MODEL_cf8239d4707e4dfa8e21924348269f28",
              "IPY_MODEL_5ff8007c575144d286e5c0afe33959e1"
            ]
          }
        },
        "71f8611610c74fbea5e11437206b6bd4": {
          "model_module": "@jupyter-widgets/base",
          "model_name": "LayoutModel",
          "state": {
            "_view_name": "LayoutView",
            "grid_template_rows": null,
            "right": null,
            "justify_content": null,
            "_view_module": "@jupyter-widgets/base",
            "overflow": null,
            "_model_module_version": "1.2.0",
            "_view_count": null,
            "flex_flow": null,
            "width": null,
            "min_width": null,
            "border": null,
            "align_items": null,
            "bottom": null,
            "_model_module": "@jupyter-widgets/base",
            "top": null,
            "grid_column": null,
            "overflow_y": null,
            "overflow_x": null,
            "grid_auto_flow": null,
            "grid_area": null,
            "grid_template_columns": null,
            "flex": null,
            "_model_name": "LayoutModel",
            "justify_items": null,
            "grid_row": null,
            "max_height": null,
            "align_content": null,
            "visibility": null,
            "align_self": null,
            "height": null,
            "min_height": null,
            "padding": null,
            "grid_auto_rows": null,
            "grid_gap": null,
            "max_width": null,
            "order": null,
            "_view_module_version": "1.2.0",
            "grid_template_areas": null,
            "object_position": null,
            "object_fit": null,
            "grid_auto_columns": null,
            "margin": null,
            "display": null,
            "left": null
          }
        },
        "cf8239d4707e4dfa8e21924348269f28": {
          "model_module": "@jupyter-widgets/controls",
          "model_name": "FloatProgressModel",
          "state": {
            "_view_name": "ProgressView",
            "style": "IPY_MODEL_bea7393126994d1bbb1adaf62c2aa361",
            "_dom_classes": [],
            "description": "Downloading: 100%",
            "_model_name": "FloatProgressModel",
            "bar_style": "success",
            "max": 28,
            "_view_module": "@jupyter-widgets/controls",
            "_model_module_version": "1.5.0",
            "value": 28,
            "_view_count": null,
            "_view_module_version": "1.5.0",
            "orientation": "horizontal",
            "min": 0,
            "description_tooltip": null,
            "_model_module": "@jupyter-widgets/controls",
            "layout": "IPY_MODEL_87d335efd5cb476d99eba55b5e9ffa47"
          }
        },
        "5ff8007c575144d286e5c0afe33959e1": {
          "model_module": "@jupyter-widgets/controls",
          "model_name": "HTMLModel",
          "state": {
            "_view_name": "HTMLView",
            "style": "IPY_MODEL_7c5ac8e58b684a8ebc6dc10669bbfa3d",
            "_dom_classes": [],
            "description": "",
            "_model_name": "HTMLModel",
            "placeholder": "​",
            "_view_module": "@jupyter-widgets/controls",
            "_model_module_version": "1.5.0",
            "value": " 28.0/28.0 [00:00&lt;00:00, 65.4B/s]",
            "_view_count": null,
            "_view_module_version": "1.5.0",
            "description_tooltip": null,
            "_model_module": "@jupyter-widgets/controls",
            "layout": "IPY_MODEL_8aed6165938841b1b68ebfe0f6f9aea4"
          }
        },
        "bea7393126994d1bbb1adaf62c2aa361": {
          "model_module": "@jupyter-widgets/controls",
          "model_name": "ProgressStyleModel",
          "state": {
            "_view_name": "StyleView",
            "_model_name": "ProgressStyleModel",
            "description_width": "initial",
            "_view_module": "@jupyter-widgets/base",
            "_model_module_version": "1.5.0",
            "_view_count": null,
            "_view_module_version": "1.2.0",
            "bar_color": null,
            "_model_module": "@jupyter-widgets/controls"
          }
        },
        "87d335efd5cb476d99eba55b5e9ffa47": {
          "model_module": "@jupyter-widgets/base",
          "model_name": "LayoutModel",
          "state": {
            "_view_name": "LayoutView",
            "grid_template_rows": null,
            "right": null,
            "justify_content": null,
            "_view_module": "@jupyter-widgets/base",
            "overflow": null,
            "_model_module_version": "1.2.0",
            "_view_count": null,
            "flex_flow": null,
            "width": null,
            "min_width": null,
            "border": null,
            "align_items": null,
            "bottom": null,
            "_model_module": "@jupyter-widgets/base",
            "top": null,
            "grid_column": null,
            "overflow_y": null,
            "overflow_x": null,
            "grid_auto_flow": null,
            "grid_area": null,
            "grid_template_columns": null,
            "flex": null,
            "_model_name": "LayoutModel",
            "justify_items": null,
            "grid_row": null,
            "max_height": null,
            "align_content": null,
            "visibility": null,
            "align_self": null,
            "height": null,
            "min_height": null,
            "padding": null,
            "grid_auto_rows": null,
            "grid_gap": null,
            "max_width": null,
            "order": null,
            "_view_module_version": "1.2.0",
            "grid_template_areas": null,
            "object_position": null,
            "object_fit": null,
            "grid_auto_columns": null,
            "margin": null,
            "display": null,
            "left": null
          }
        },
        "7c5ac8e58b684a8ebc6dc10669bbfa3d": {
          "model_module": "@jupyter-widgets/controls",
          "model_name": "DescriptionStyleModel",
          "state": {
            "_view_name": "StyleView",
            "_model_name": "DescriptionStyleModel",
            "description_width": "",
            "_view_module": "@jupyter-widgets/base",
            "_model_module_version": "1.5.0",
            "_view_count": null,
            "_view_module_version": "1.2.0",
            "_model_module": "@jupyter-widgets/controls"
          }
        },
        "8aed6165938841b1b68ebfe0f6f9aea4": {
          "model_module": "@jupyter-widgets/base",
          "model_name": "LayoutModel",
          "state": {
            "_view_name": "LayoutView",
            "grid_template_rows": null,
            "right": null,
            "justify_content": null,
            "_view_module": "@jupyter-widgets/base",
            "overflow": null,
            "_model_module_version": "1.2.0",
            "_view_count": null,
            "flex_flow": null,
            "width": null,
            "min_width": null,
            "border": null,
            "align_items": null,
            "bottom": null,
            "_model_module": "@jupyter-widgets/base",
            "top": null,
            "grid_column": null,
            "overflow_y": null,
            "overflow_x": null,
            "grid_auto_flow": null,
            "grid_area": null,
            "grid_template_columns": null,
            "flex": null,
            "_model_name": "LayoutModel",
            "justify_items": null,
            "grid_row": null,
            "max_height": null,
            "align_content": null,
            "visibility": null,
            "align_self": null,
            "height": null,
            "min_height": null,
            "padding": null,
            "grid_auto_rows": null,
            "grid_gap": null,
            "max_width": null,
            "order": null,
            "_view_module_version": "1.2.0",
            "grid_template_areas": null,
            "object_position": null,
            "object_fit": null,
            "grid_auto_columns": null,
            "margin": null,
            "display": null,
            "left": null
          }
        },
        "c8b172cf74614594b44a6123bf83dd8d": {
          "model_module": "@jupyter-widgets/controls",
          "model_name": "HBoxModel",
          "state": {
            "_view_name": "HBoxView",
            "_dom_classes": [],
            "_model_name": "HBoxModel",
            "_view_module": "@jupyter-widgets/controls",
            "_model_module_version": "1.5.0",
            "_view_count": null,
            "_view_module_version": "1.5.0",
            "box_style": "",
            "layout": "IPY_MODEL_ef1cbab62eed42cf8a0eb4350d3b8891",
            "_model_module": "@jupyter-widgets/controls",
            "children": [
              "IPY_MODEL_3344f9300acf406480239bf047bd79e4",
              "IPY_MODEL_3452b8c45dfa4b5ea60ace7c6089c15a"
            ]
          }
        },
        "ef1cbab62eed42cf8a0eb4350d3b8891": {
          "model_module": "@jupyter-widgets/base",
          "model_name": "LayoutModel",
          "state": {
            "_view_name": "LayoutView",
            "grid_template_rows": null,
            "right": null,
            "justify_content": null,
            "_view_module": "@jupyter-widgets/base",
            "overflow": null,
            "_model_module_version": "1.2.0",
            "_view_count": null,
            "flex_flow": null,
            "width": null,
            "min_width": null,
            "border": null,
            "align_items": null,
            "bottom": null,
            "_model_module": "@jupyter-widgets/base",
            "top": null,
            "grid_column": null,
            "overflow_y": null,
            "overflow_x": null,
            "grid_auto_flow": null,
            "grid_area": null,
            "grid_template_columns": null,
            "flex": null,
            "_model_name": "LayoutModel",
            "justify_items": null,
            "grid_row": null,
            "max_height": null,
            "align_content": null,
            "visibility": null,
            "align_self": null,
            "height": null,
            "min_height": null,
            "padding": null,
            "grid_auto_rows": null,
            "grid_gap": null,
            "max_width": null,
            "order": null,
            "_view_module_version": "1.2.0",
            "grid_template_areas": null,
            "object_position": null,
            "object_fit": null,
            "grid_auto_columns": null,
            "margin": null,
            "display": null,
            "left": null
          }
        },
        "3344f9300acf406480239bf047bd79e4": {
          "model_module": "@jupyter-widgets/controls",
          "model_name": "FloatProgressModel",
          "state": {
            "_view_name": "ProgressView",
            "style": "IPY_MODEL_7c47aa774b534bc28e0b1a63e76735ca",
            "_dom_classes": [],
            "description": "Downloading: 100%",
            "_model_name": "FloatProgressModel",
            "bar_style": "success",
            "max": 267967963,
            "_view_module": "@jupyter-widgets/controls",
            "_model_module_version": "1.5.0",
            "value": 267967963,
            "_view_count": null,
            "_view_module_version": "1.5.0",
            "orientation": "horizontal",
            "min": 0,
            "description_tooltip": null,
            "_model_module": "@jupyter-widgets/controls",
            "layout": "IPY_MODEL_629032389e9a40d7ac14d6d9da813f58"
          }
        },
        "3452b8c45dfa4b5ea60ace7c6089c15a": {
          "model_module": "@jupyter-widgets/controls",
          "model_name": "HTMLModel",
          "state": {
            "_view_name": "HTMLView",
            "style": "IPY_MODEL_ed36503eb6524d7c85923a552b85a98a",
            "_dom_classes": [],
            "description": "",
            "_model_name": "HTMLModel",
            "placeholder": "​",
            "_view_module": "@jupyter-widgets/controls",
            "_model_module_version": "1.5.0",
            "value": " 268M/268M [00:06&lt;00:00, 41.5MB/s]",
            "_view_count": null,
            "_view_module_version": "1.5.0",
            "description_tooltip": null,
            "_model_module": "@jupyter-widgets/controls",
            "layout": "IPY_MODEL_b8f1d9c52dee4caa97a32b2cafd0dca3"
          }
        },
        "7c47aa774b534bc28e0b1a63e76735ca": {
          "model_module": "@jupyter-widgets/controls",
          "model_name": "ProgressStyleModel",
          "state": {
            "_view_name": "StyleView",
            "_model_name": "ProgressStyleModel",
            "description_width": "initial",
            "_view_module": "@jupyter-widgets/base",
            "_model_module_version": "1.5.0",
            "_view_count": null,
            "_view_module_version": "1.2.0",
            "bar_color": null,
            "_model_module": "@jupyter-widgets/controls"
          }
        },
        "629032389e9a40d7ac14d6d9da813f58": {
          "model_module": "@jupyter-widgets/base",
          "model_name": "LayoutModel",
          "state": {
            "_view_name": "LayoutView",
            "grid_template_rows": null,
            "right": null,
            "justify_content": null,
            "_view_module": "@jupyter-widgets/base",
            "overflow": null,
            "_model_module_version": "1.2.0",
            "_view_count": null,
            "flex_flow": null,
            "width": null,
            "min_width": null,
            "border": null,
            "align_items": null,
            "bottom": null,
            "_model_module": "@jupyter-widgets/base",
            "top": null,
            "grid_column": null,
            "overflow_y": null,
            "overflow_x": null,
            "grid_auto_flow": null,
            "grid_area": null,
            "grid_template_columns": null,
            "flex": null,
            "_model_name": "LayoutModel",
            "justify_items": null,
            "grid_row": null,
            "max_height": null,
            "align_content": null,
            "visibility": null,
            "align_self": null,
            "height": null,
            "min_height": null,
            "padding": null,
            "grid_auto_rows": null,
            "grid_gap": null,
            "max_width": null,
            "order": null,
            "_view_module_version": "1.2.0",
            "grid_template_areas": null,
            "object_position": null,
            "object_fit": null,
            "grid_auto_columns": null,
            "margin": null,
            "display": null,
            "left": null
          }
        },
        "ed36503eb6524d7c85923a552b85a98a": {
          "model_module": "@jupyter-widgets/controls",
          "model_name": "DescriptionStyleModel",
          "state": {
            "_view_name": "StyleView",
            "_model_name": "DescriptionStyleModel",
            "description_width": "",
            "_view_module": "@jupyter-widgets/base",
            "_model_module_version": "1.5.0",
            "_view_count": null,
            "_view_module_version": "1.2.0",
            "_model_module": "@jupyter-widgets/controls"
          }
        },
        "b8f1d9c52dee4caa97a32b2cafd0dca3": {
          "model_module": "@jupyter-widgets/base",
          "model_name": "LayoutModel",
          "state": {
            "_view_name": "LayoutView",
            "grid_template_rows": null,
            "right": null,
            "justify_content": null,
            "_view_module": "@jupyter-widgets/base",
            "overflow": null,
            "_model_module_version": "1.2.0",
            "_view_count": null,
            "flex_flow": null,
            "width": null,
            "min_width": null,
            "border": null,
            "align_items": null,
            "bottom": null,
            "_model_module": "@jupyter-widgets/base",
            "top": null,
            "grid_column": null,
            "overflow_y": null,
            "overflow_x": null,
            "grid_auto_flow": null,
            "grid_area": null,
            "grid_template_columns": null,
            "flex": null,
            "_model_name": "LayoutModel",
            "justify_items": null,
            "grid_row": null,
            "max_height": null,
            "align_content": null,
            "visibility": null,
            "align_self": null,
            "height": null,
            "min_height": null,
            "padding": null,
            "grid_auto_rows": null,
            "grid_gap": null,
            "max_width": null,
            "order": null,
            "_view_module_version": "1.2.0",
            "grid_template_areas": null,
            "object_position": null,
            "object_fit": null,
            "grid_auto_columns": null,
            "margin": null,
            "display": null,
            "left": null
          }
        }
      }
    }
  },
  "cells": [
    {
      "cell_type": "markdown",
      "metadata": {
        "id": "view-in-github",
        "colab_type": "text"
      },
      "source": [
        "<a href=\"https://colab.research.google.com/github/hiteshK03/Product-review-classifier/blob/main/sequence_classification.ipynb\" target=\"_parent\"><img src=\"https://colab.research.google.com/assets/colab-badge.svg\" alt=\"Open In Colab\"/></a>"
      ]
    },
    {
      "cell_type": "code",
      "metadata": {
        "trusted": true,
        "colab": {
          "base_uri": "https://localhost:8080/"
        },
        "id": "GZEiUnR2hhUZ",
        "outputId": "3c9d34ea-fcd0-47e4-b57a-866d8aaaa826"
      },
      "source": [
        "!pip -q install lime\n",
        "!pip -q install transformers"
      ],
      "execution_count": null,
      "outputs": [
        {
          "output_type": "stream",
          "text": [
            "\u001b[?25l\r\u001b[K     |█▏                              | 10kB 19.5MB/s eta 0:00:01\r\u001b[K     |██▍                             | 20kB 25.7MB/s eta 0:00:01\r\u001b[K     |███▋                            | 30kB 19.7MB/s eta 0:00:01\r\u001b[K     |████▊                           | 40kB 16.7MB/s eta 0:00:01\r\u001b[K     |██████                          | 51kB 9.5MB/s eta 0:00:01\r\u001b[K     |███████▏                        | 61kB 11.0MB/s eta 0:00:01\r\u001b[K     |████████▎                       | 71kB 9.2MB/s eta 0:00:01\r\u001b[K     |█████████▌                      | 81kB 10.1MB/s eta 0:00:01\r\u001b[K     |██████████▊                     | 92kB 10.6MB/s eta 0:00:01\r\u001b[K     |███████████▉                    | 102kB 7.4MB/s eta 0:00:01\r\u001b[K     |█████████████                   | 112kB 7.4MB/s eta 0:00:01\r\u001b[K     |██████████████▎                 | 122kB 7.4MB/s eta 0:00:01\r\u001b[K     |███████████████▌                | 133kB 7.4MB/s eta 0:00:01\r\u001b[K     |████████████████▋               | 143kB 7.4MB/s eta 0:00:01\r\u001b[K     |█████████████████▉              | 153kB 7.4MB/s eta 0:00:01\r\u001b[K     |███████████████████             | 163kB 7.4MB/s eta 0:00:01\r\u001b[K     |████████████████████▏           | 174kB 7.4MB/s eta 0:00:01\r\u001b[K     |█████████████████████▍          | 184kB 7.4MB/s eta 0:00:01\r\u001b[K     |██████████████████████▋         | 194kB 7.4MB/s eta 0:00:01\r\u001b[K     |███████████████████████▊        | 204kB 7.4MB/s eta 0:00:01\r\u001b[K     |█████████████████████████       | 215kB 7.4MB/s eta 0:00:01\r\u001b[K     |██████████████████████████▏     | 225kB 7.4MB/s eta 0:00:01\r\u001b[K     |███████████████████████████▍    | 235kB 7.4MB/s eta 0:00:01\r\u001b[K     |████████████████████████████▌   | 245kB 7.4MB/s eta 0:00:01\r\u001b[K     |█████████████████████████████▊  | 256kB 7.4MB/s eta 0:00:01\r\u001b[K     |███████████████████████████████ | 266kB 7.4MB/s eta 0:00:01\r\u001b[K     |████████████████████████████████| 276kB 7.4MB/s \n",
            "\u001b[?25h  Building wheel for lime (setup.py) ... \u001b[?25l\u001b[?25hdone\n",
            "\u001b[K     |████████████████████████████████| 2.1MB 9.0MB/s \n",
            "\u001b[K     |████████████████████████████████| 901kB 45.6MB/s \n",
            "\u001b[K     |████████████████████████████████| 3.3MB 46.3MB/s \n",
            "\u001b[?25h"
          ],
          "name": "stdout"
        }
      ]
    },
    {
      "cell_type": "code",
      "metadata": {
        "trusted": true,
        "colab": {
          "base_uri": "https://localhost:8080/"
        },
        "id": "a5QooOEwhhUm",
        "outputId": "0416f5aa-bf02-49db-c058-61d92e3a78d7"
      },
      "source": [
        "import torch\n",
        "from torch.utils.data import DataLoader, WeightedRandomSampler\n",
        "from torch.utils.data.sampler import SubsetRandomSampler\n",
        "from imblearn.over_sampling import RandomOverSampler\n",
        "import pandas as pd\n",
        "import numpy as np\n",
        "import re\n",
        "import os\n",
        "import time\n",
        "from collections import Counter"
      ],
      "execution_count": null,
      "outputs": [
        {
          "output_type": "stream",
          "text": [
            "/usr/local/lib/python3.7/dist-packages/sklearn/externals/six.py:31: FutureWarning: The module is deprecated in version 0.21 and will be removed in version 0.23 since we've dropped support for Python 2.7. Please rely on the official version of six (https://pypi.org/project/six/).\n",
            "  \"(https://pypi.org/project/six/).\", FutureWarning)\n",
            "/usr/local/lib/python3.7/dist-packages/sklearn/utils/deprecation.py:144: FutureWarning: The sklearn.neighbors.base module is  deprecated in version 0.22 and will be removed in version 0.24. The corresponding classes / functions should instead be imported from sklearn.neighbors. Anything that cannot be imported from sklearn.neighbors is now part of the private API.\n",
            "  warnings.warn(message, FutureWarning)\n"
          ],
          "name": "stderr"
        }
      ]
    },
    {
      "cell_type": "code",
      "metadata": {
        "trusted": true,
        "id": "hqo2Vw1nhhUn"
      },
      "source": [
        "# from transformers import DistilBertTokenizerFast, DistilBertModel\n",
        "# from transformers import DistilBertForSequenceClassification, AdamW"
      ],
      "execution_count": null,
      "outputs": []
    },
    {
      "cell_type": "code",
      "metadata": {
        "trusted": true,
        "id": "WmNFmbfyhhUn"
      },
      "source": [
        "from transformers import AutoTokenizer, AutoModel, AdamW "
      ],
      "execution_count": null,
      "outputs": []
    },
    {
      "cell_type": "code",
      "metadata": {
        "trusted": true,
        "id": "nrhNOEvvhhUn"
      },
      "source": [
        "device = torch.device('cuda') if torch.cuda.is_available() else torch.device('cpu')"
      ],
      "execution_count": null,
      "outputs": []
    },
    {
      "cell_type": "code",
      "metadata": {
        "trusted": true,
        "id": "CartIlTNhhUo"
      },
      "source": [
        "def convert_to_lower(text):\n",
        "    # return the reviews after convering then to lowercase\n",
        "    return text.lower()\n",
        "\n",
        "def remove_punctuation(text):\n",
        "    # return the reviews after removing punctuations\n",
        "    text = re.sub(r\"n\\'t\", \" not\", text)\n",
        "    text = re.sub(r\"\\'re\", \" are\", text)\n",
        "    text = re.sub(r\"\\'s\", \" is\", text)\n",
        "    text = re.sub(r\"\\'d\", \" would\", text)\n",
        "    text = re.sub(r\"\\'ll\", \" will\", text)\n",
        "    text = re.sub(r\"\\'ve\", \" have\", text)\n",
        "    text = re.sub(r\"\\'m\", \" am\", text)\n",
        "    # text = re.sub(r'[^\\w\\s]',' ',text)\n",
        "    text = re.sub(' +', ' ',text)\n",
        "    return text\n",
        "\n",
        "def remove_stopwords(text):\n",
        "    # return the reviews after removing the stopwords\n",
        "    exclude = set(['$','&','+',':',';','=','@','|','<','>','^','*','%','-','#','\\'','।'])\n",
        "    remove_digits = str.maketrans('', '', digits)\n",
        "    text = text.translate(remove_digits)\n",
        "    return ''.join(ch for ch in text if ch not in exclude)\n",
        "    # stop_words = stopwords.words('english')\n",
        "    # stop_words.remove('not')\n",
        "    # return ' '.join([w for w in text if not w in stop_words])  \n",
        "\n",
        "def perform_tokenization(text):\n",
        "    # return the reviews after performing tokenization\n",
        "    return word_tokenize(text)\n",
        "\n",
        "def perform_padding(data, TEXT):\n",
        "    # return the reviews after padding the reviews to maximum length\n",
        "    # return pad_sequences(data, maxlen=max_len)\n",
        "    return TEXT.pad(data)\n",
        "\n",
        "def preprocess_review(text):\n",
        "    out = convert_to_lower(text)\n",
        "    # out = remove_punctuation(out)\n",
        "    # out = remove_stopwords(out)\n",
        "    # out = perform_tokenization(out)\n",
        "    out = tokenizer(out, padding='max_length', truncation=True)\n",
        "    return out\n",
        "\n",
        "def preprocess_data(data):\n",
        "    # make all the following function calls on your data\n",
        "    # EXAMPLE:->\n",
        "\n",
        "    review = data.apply(lambda row: preprocess_review(row))\n",
        "    # review, text_field = encode_data(review, L)\n",
        "    return review"
      ],
      "execution_count": null,
      "outputs": []
    },
    {
      "cell_type": "code",
      "metadata": {
        "trusted": true,
        "colab": {
          "base_uri": "https://localhost:8080/",
          "height": 213,
          "referenced_widgets": [
            "2073aea3f3064754928edd78390518f7",
            "23cd600c5b5b400685710388d7d9c091",
            "0ea7f1f1d2ef4b2ea83273babfb95bdb",
            "475c69d6109045f69d980c068f46729b",
            "5491364618a94110b6d5533d1558b20e",
            "dc41fb16cfc1400b8541aa26b4a978c8",
            "e5553a67b406443092df85de1c08b852",
            "af6eb4b8c9204180b9058988d0448a79",
            "79bab6f2290b4deea0f651f612f288ee",
            "103c2ba0b35f4d0ebb03d1472dc6c05f",
            "2cb5090fcb694c57b7a2ff73bf820c97",
            "34c00515b6d84556ab85a3763818e51c",
            "2d789602d5bb4ed1a9ec8c02600046c9",
            "16e145b8cbbf408f945673e720014248",
            "5e79650910734e6bad387fa01d34fddd",
            "e28903f246f141e0ab5a91f22f0b4f81",
            "073ba265e5f64038877601a1703296c9",
            "3e6441fe48614e42b759fcc3d6f98878",
            "8c04873585e94026860ad99b3ea93b26",
            "da4a5dc0b65040e68c3e6e9c29a2021f",
            "dff9fc8d9dd7425d907321ca0132234f",
            "7359456cc84141ec96165f8135586c78",
            "7d0762d18a864b98bdde550d33905848",
            "bef26b20f1ea4e91a54586109e04654d",
            "682e92d8dc44414392ef80124e6ce6b6",
            "71f8611610c74fbea5e11437206b6bd4",
            "cf8239d4707e4dfa8e21924348269f28",
            "5ff8007c575144d286e5c0afe33959e1",
            "bea7393126994d1bbb1adaf62c2aa361",
            "87d335efd5cb476d99eba55b5e9ffa47",
            "7c5ac8e58b684a8ebc6dc10669bbfa3d",
            "8aed6165938841b1b68ebfe0f6f9aea4"
          ]
        },
        "id": "xWdBHmUlhhUp",
        "outputId": "6e6d9db2-0036-411b-e475-7c934e5655ec"
      },
      "source": [
        "tokenizer = AutoTokenizer.from_pretrained('distilbert-base-uncased')"
      ],
      "execution_count": null,
      "outputs": [
        {
          "output_type": "display_data",
          "data": {
            "application/vnd.jupyter.widget-view+json": {
              "model_id": "2073aea3f3064754928edd78390518f7",
              "version_minor": 0,
              "version_major": 2
            },
            "text/plain": [
              "HBox(children=(FloatProgress(value=0.0, description='Downloading', max=442.0, style=ProgressStyle(description_…"
            ]
          },
          "metadata": {
            "tags": []
          }
        },
        {
          "output_type": "stream",
          "text": [
            "\n"
          ],
          "name": "stdout"
        },
        {
          "output_type": "display_data",
          "data": {
            "application/vnd.jupyter.widget-view+json": {
              "model_id": "79bab6f2290b4deea0f651f612f288ee",
              "version_minor": 0,
              "version_major": 2
            },
            "text/plain": [
              "HBox(children=(FloatProgress(value=0.0, description='Downloading', max=231508.0, style=ProgressStyle(descripti…"
            ]
          },
          "metadata": {
            "tags": []
          }
        },
        {
          "output_type": "stream",
          "text": [
            "\n"
          ],
          "name": "stdout"
        },
        {
          "output_type": "display_data",
          "data": {
            "application/vnd.jupyter.widget-view+json": {
              "model_id": "073ba265e5f64038877601a1703296c9",
              "version_minor": 0,
              "version_major": 2
            },
            "text/plain": [
              "HBox(children=(FloatProgress(value=0.0, description='Downloading', max=466062.0, style=ProgressStyle(descripti…"
            ]
          },
          "metadata": {
            "tags": []
          }
        },
        {
          "output_type": "stream",
          "text": [
            "\n"
          ],
          "name": "stdout"
        },
        {
          "output_type": "display_data",
          "data": {
            "application/vnd.jupyter.widget-view+json": {
              "model_id": "682e92d8dc44414392ef80124e6ce6b6",
              "version_minor": 0,
              "version_major": 2
            },
            "text/plain": [
              "HBox(children=(FloatProgress(value=0.0, description='Downloading', max=28.0, style=ProgressStyle(description_w…"
            ]
          },
          "metadata": {
            "tags": []
          }
        },
        {
          "output_type": "stream",
          "text": [
            "\n"
          ],
          "name": "stdout"
        }
      ]
    },
    {
      "cell_type": "code",
      "metadata": {
        "trusted": true,
        "id": "rYS_HlPuhhUq"
      },
      "source": [
        "reviews_train = pd.read_csv('train.csv')\n",
        "reviews_val = pd.read_csv('gold_test.csv')\n",
        "reviews_test = pd.read_csv('test.csv')"
      ],
      "execution_count": null,
      "outputs": []
    },
    {
      "cell_type": "code",
      "metadata": {
        "trusted": true,
        "id": "peifQArThhUq"
      },
      "source": [
        "train_texts = reviews_train.reviews\n",
        "train_labels = reviews_train.ratings\n",
        "val_texts = reviews_val.reviews\n",
        "val_labels = reviews_val.ratings\n",
        "# test_texts = reviews_test.reviews\n",
        "# test_labels = reviews_test.ratings"
      ],
      "execution_count": null,
      "outputs": []
    },
    {
      "cell_type": "code",
      "metadata": {
        "trusted": true,
        "id": "3gZhh0LIhhUq"
      },
      "source": [
        "# class_sample_count = np.array([len(np.where(reviews_train['ratings'].values==t)[0]) for t in np.unique(reviews_train['ratings'].values)])\n",
        "# print(class_sample_count)\n",
        "# weight = 1 / class_sample_count\n",
        "# weight = torch.tensor(weight).float().to(device)\n",
        "# print(weight)"
      ],
      "execution_count": null,
      "outputs": []
    },
    {
      "cell_type": "code",
      "metadata": {
        "trusted": true,
        "id": "m4l6ZH1LhhUr"
      },
      "source": [
        "# class_sample_count = np.array([len(np.where(reviews_train['ratings'].values==t)[0]) for t in np.unique(reviews_train['ratings'].values)])\n",
        "# class_counts = class_sample_count\n",
        "# print(class_counts)\n",
        "# num_samples = sum(class_counts)\n",
        "# print(num_samples)\n",
        "# # labels = [0, 0,..., 0, 1] #corresponding labels of samples\n",
        "\n",
        "# class_weights = [num_samples/class_counts[i] for i in range(len(class_counts))]\n",
        "# print(class_weights)\n",
        "# weights = [class_weights[train_labels[i]-1] for i in range(int(num_samples))]\n",
        "# # print(weights)\n",
        "# weight_sampler = WeightedRandomSampler(torch.DoubleTensor(weights), int(num_samples))"
      ],
      "execution_count": null,
      "outputs": []
    },
    {
      "cell_type": "code",
      "metadata": {
        "trusted": true,
        "id": "lZEJYBxuhhUr"
      },
      "source": [
        "# weight_sampler = WeightedRandomSampler(weight, num_samples=len(weight), replacement=True)\n",
        "# train_texts, train_labels = sampler.fit_sample(train_texts, train_labels)"
      ],
      "execution_count": null,
      "outputs": []
    },
    {
      "cell_type": "code",
      "metadata": {
        "trusted": true,
        "id": "Qk1ZCxAvhhUs"
      },
      "source": [
        "class NLPDataset(torch.utils.data.Dataset):\n",
        "    def __init__(self, encodings, labels):\n",
        "        self.encodings = encodings\n",
        "        self.labels = labels\n",
        "\n",
        "    def __len__(self):\n",
        "        return len(self.labels)\n",
        "\n",
        "    def __getitem__(self, idx):\n",
        "        item = self.encodings[idx]\n",
        "        item['label'] = torch.tensor(self.labels[idx]-1)\n",
        "        item['input_ids'] = torch.tensor(item['input_ids'])\n",
        "        item['attention_mask'] = torch.tensor(item['attention_mask'])\n",
        "        return item"
      ],
      "execution_count": null,
      "outputs": []
    },
    {
      "cell_type": "code",
      "metadata": {
        "trusted": true,
        "id": "u__eRkh_hhUs"
      },
      "source": [
        "# sampler = RandomOverSampler({5: 33193, 4: 33193, 3: 33193, 2: 33193, 1: 33193},random_state=0)\n",
        "\n",
        "# train_X_rs, train_Y_rs = torch.tensor(X_rs), torch.tensor(y_rs)"
      ],
      "execution_count": null,
      "outputs": []
    },
    {
      "cell_type": "code",
      "metadata": {
        "trusted": true,
        "id": "1bcZ-j6uhhUs"
      },
      "source": [
        "train_encodings = preprocess_data(train_texts)\n",
        "val_encodings = preprocess_data(val_texts)\n",
        "# test_encodings = preprocess_data(test_texts)\n",
        "# train_encodings, train_labels = sampler.fit_resample(train_encodings, train_labels)\n",
        "\n",
        "train_dataset = NLPDataset(train_encodings, train_labels)\n",
        "val_dataset = NLPDataset(val_encodings, val_labels)\n",
        "\n",
        "train_length = len(train_dataset)\n",
        "val_length = len(val_dataset)\n",
        "# test_dataset = NLPDataset(test_encodings, test_labels)"
      ],
      "execution_count": null,
      "outputs": []
    },
    {
      "cell_type": "code",
      "metadata": {
        "trusted": true,
        "id": "ZC_bTHxZhhUt"
      },
      "source": [
        "class CustomBERTModel(torch.nn.Module):\n",
        "    def __init__(self, num_classes):\n",
        "          super(CustomBERTModel, self).__init__()\n",
        "          self.bert = AutoModel.from_pretrained(\"distilbert-base-uncased\")\n",
        "\n",
        "          ### New layers:\n",
        "          self.linear1 = torch.nn.Linear(768, 256)\n",
        "          self.linear2 = torch.nn.Linear(256, num_classes) ## as you have 4 classes in the output\n",
        "          # self.sig = torch.nn.functional.sigmoid()\n",
        "\n",
        "    def forward(self, ids, mask):\n",
        "          sequence_output = self.bert(ids,attention_mask=mask)\n",
        "#           print(sequence_output[\"last_hidden_state\"].shape)\n",
        "          sequence_output = sequence_output[\"last_hidden_state\"][:,0,:]\n",
        "\n",
        "          # sequence_output has the following shape: (batch_size, sequence_length, 768)\n",
        "          linear1_output = self.linear1(sequence_output.view(-1,768))\n",
        "          linear2_output = self.linear2(linear1_output)\n",
        "          # linear2_output = self.sig(linear2_output)\n",
        "\n",
        "          return linear2_output"
      ],
      "execution_count": null,
      "outputs": []
    },
    {
      "cell_type": "code",
      "metadata": {
        "trusted": true,
        "colab": {
          "base_uri": "https://localhost:8080/",
          "height": 1000,
          "referenced_widgets": [
            "c8b172cf74614594b44a6123bf83dd8d",
            "ef1cbab62eed42cf8a0eb4350d3b8891",
            "3344f9300acf406480239bf047bd79e4",
            "3452b8c45dfa4b5ea60ace7c6089c15a",
            "7c47aa774b534bc28e0b1a63e76735ca",
            "629032389e9a40d7ac14d6d9da813f58",
            "ed36503eb6524d7c85923a552b85a98a",
            "b8f1d9c52dee4caa97a32b2cafd0dca3"
          ]
        },
        "id": "famcYmvEhhUt",
        "outputId": "cbf9b101-6274-40c0-f8d6-b79c07a2dd88"
      },
      "source": [
        "model = CustomBERTModel(num_classes=5)\n",
        "for param in model.bert.parameters():\n",
        "    param.requires_grad = False\n",
        "model.to(device)\n",
        "model.train()"
      ],
      "execution_count": null,
      "outputs": [
        {
          "output_type": "display_data",
          "data": {
            "application/vnd.jupyter.widget-view+json": {
              "model_id": "c8b172cf74614594b44a6123bf83dd8d",
              "version_minor": 0,
              "version_major": 2
            },
            "text/plain": [
              "HBox(children=(FloatProgress(value=0.0, description='Downloading', max=267967963.0, style=ProgressStyle(descri…"
            ]
          },
          "metadata": {
            "tags": []
          }
        },
        {
          "output_type": "stream",
          "text": [
            "\n"
          ],
          "name": "stdout"
        },
        {
          "output_type": "execute_result",
          "data": {
            "text/plain": [
              "CustomBERTModel(\n",
              "  (bert): DistilBertModel(\n",
              "    (embeddings): Embeddings(\n",
              "      (word_embeddings): Embedding(30522, 768, padding_idx=0)\n",
              "      (position_embeddings): Embedding(512, 768)\n",
              "      (LayerNorm): LayerNorm((768,), eps=1e-12, elementwise_affine=True)\n",
              "      (dropout): Dropout(p=0.1, inplace=False)\n",
              "    )\n",
              "    (transformer): Transformer(\n",
              "      (layer): ModuleList(\n",
              "        (0): TransformerBlock(\n",
              "          (attention): MultiHeadSelfAttention(\n",
              "            (dropout): Dropout(p=0.1, inplace=False)\n",
              "            (q_lin): Linear(in_features=768, out_features=768, bias=True)\n",
              "            (k_lin): Linear(in_features=768, out_features=768, bias=True)\n",
              "            (v_lin): Linear(in_features=768, out_features=768, bias=True)\n",
              "            (out_lin): Linear(in_features=768, out_features=768, bias=True)\n",
              "          )\n",
              "          (sa_layer_norm): LayerNorm((768,), eps=1e-12, elementwise_affine=True)\n",
              "          (ffn): FFN(\n",
              "            (dropout): Dropout(p=0.1, inplace=False)\n",
              "            (lin1): Linear(in_features=768, out_features=3072, bias=True)\n",
              "            (lin2): Linear(in_features=3072, out_features=768, bias=True)\n",
              "          )\n",
              "          (output_layer_norm): LayerNorm((768,), eps=1e-12, elementwise_affine=True)\n",
              "        )\n",
              "        (1): TransformerBlock(\n",
              "          (attention): MultiHeadSelfAttention(\n",
              "            (dropout): Dropout(p=0.1, inplace=False)\n",
              "            (q_lin): Linear(in_features=768, out_features=768, bias=True)\n",
              "            (k_lin): Linear(in_features=768, out_features=768, bias=True)\n",
              "            (v_lin): Linear(in_features=768, out_features=768, bias=True)\n",
              "            (out_lin): Linear(in_features=768, out_features=768, bias=True)\n",
              "          )\n",
              "          (sa_layer_norm): LayerNorm((768,), eps=1e-12, elementwise_affine=True)\n",
              "          (ffn): FFN(\n",
              "            (dropout): Dropout(p=0.1, inplace=False)\n",
              "            (lin1): Linear(in_features=768, out_features=3072, bias=True)\n",
              "            (lin2): Linear(in_features=3072, out_features=768, bias=True)\n",
              "          )\n",
              "          (output_layer_norm): LayerNorm((768,), eps=1e-12, elementwise_affine=True)\n",
              "        )\n",
              "        (2): TransformerBlock(\n",
              "          (attention): MultiHeadSelfAttention(\n",
              "            (dropout): Dropout(p=0.1, inplace=False)\n",
              "            (q_lin): Linear(in_features=768, out_features=768, bias=True)\n",
              "            (k_lin): Linear(in_features=768, out_features=768, bias=True)\n",
              "            (v_lin): Linear(in_features=768, out_features=768, bias=True)\n",
              "            (out_lin): Linear(in_features=768, out_features=768, bias=True)\n",
              "          )\n",
              "          (sa_layer_norm): LayerNorm((768,), eps=1e-12, elementwise_affine=True)\n",
              "          (ffn): FFN(\n",
              "            (dropout): Dropout(p=0.1, inplace=False)\n",
              "            (lin1): Linear(in_features=768, out_features=3072, bias=True)\n",
              "            (lin2): Linear(in_features=3072, out_features=768, bias=True)\n",
              "          )\n",
              "          (output_layer_norm): LayerNorm((768,), eps=1e-12, elementwise_affine=True)\n",
              "        )\n",
              "        (3): TransformerBlock(\n",
              "          (attention): MultiHeadSelfAttention(\n",
              "            (dropout): Dropout(p=0.1, inplace=False)\n",
              "            (q_lin): Linear(in_features=768, out_features=768, bias=True)\n",
              "            (k_lin): Linear(in_features=768, out_features=768, bias=True)\n",
              "            (v_lin): Linear(in_features=768, out_features=768, bias=True)\n",
              "            (out_lin): Linear(in_features=768, out_features=768, bias=True)\n",
              "          )\n",
              "          (sa_layer_norm): LayerNorm((768,), eps=1e-12, elementwise_affine=True)\n",
              "          (ffn): FFN(\n",
              "            (dropout): Dropout(p=0.1, inplace=False)\n",
              "            (lin1): Linear(in_features=768, out_features=3072, bias=True)\n",
              "            (lin2): Linear(in_features=3072, out_features=768, bias=True)\n",
              "          )\n",
              "          (output_layer_norm): LayerNorm((768,), eps=1e-12, elementwise_affine=True)\n",
              "        )\n",
              "        (4): TransformerBlock(\n",
              "          (attention): MultiHeadSelfAttention(\n",
              "            (dropout): Dropout(p=0.1, inplace=False)\n",
              "            (q_lin): Linear(in_features=768, out_features=768, bias=True)\n",
              "            (k_lin): Linear(in_features=768, out_features=768, bias=True)\n",
              "            (v_lin): Linear(in_features=768, out_features=768, bias=True)\n",
              "            (out_lin): Linear(in_features=768, out_features=768, bias=True)\n",
              "          )\n",
              "          (sa_layer_norm): LayerNorm((768,), eps=1e-12, elementwise_affine=True)\n",
              "          (ffn): FFN(\n",
              "            (dropout): Dropout(p=0.1, inplace=False)\n",
              "            (lin1): Linear(in_features=768, out_features=3072, bias=True)\n",
              "            (lin2): Linear(in_features=3072, out_features=768, bias=True)\n",
              "          )\n",
              "          (output_layer_norm): LayerNorm((768,), eps=1e-12, elementwise_affine=True)\n",
              "        )\n",
              "        (5): TransformerBlock(\n",
              "          (attention): MultiHeadSelfAttention(\n",
              "            (dropout): Dropout(p=0.1, inplace=False)\n",
              "            (q_lin): Linear(in_features=768, out_features=768, bias=True)\n",
              "            (k_lin): Linear(in_features=768, out_features=768, bias=True)\n",
              "            (v_lin): Linear(in_features=768, out_features=768, bias=True)\n",
              "            (out_lin): Linear(in_features=768, out_features=768, bias=True)\n",
              "          )\n",
              "          (sa_layer_norm): LayerNorm((768,), eps=1e-12, elementwise_affine=True)\n",
              "          (ffn): FFN(\n",
              "            (dropout): Dropout(p=0.1, inplace=False)\n",
              "            (lin1): Linear(in_features=768, out_features=3072, bias=True)\n",
              "            (lin2): Linear(in_features=3072, out_features=768, bias=True)\n",
              "          )\n",
              "          (output_layer_norm): LayerNorm((768,), eps=1e-12, elementwise_affine=True)\n",
              "        )\n",
              "      )\n",
              "    )\n",
              "  )\n",
              "  (linear1): Linear(in_features=768, out_features=256, bias=True)\n",
              "  (linear2): Linear(in_features=256, out_features=5, bias=True)\n",
              ")"
            ]
          },
          "metadata": {
            "tags": []
          },
          "execution_count": 14
        }
      ]
    },
    {
      "cell_type": "code",
      "metadata": {
        "trusted": true,
        "id": "xWD71XqMhhUu"
      },
      "source": [
        "# train_loader = DataLoader(train_dataset, batch_size=16, shuffle=True)\n",
        "# criterion = torch.nn.CrossEntropyLoss()\n",
        "# optim = AdamW(model.parameters(), lr=5e-5)\n",
        "\n",
        "# batch = next(iter(train_loader))\n",
        "# input_ids = batch['input_ids'].to(device)\n",
        "# attention_mask = batch['attention_mask'].to(device)\n",
        "# labels = batch['label'].to(device)\n",
        "# print(input_ids.shape)\n",
        "# print(labels.shape)\n",
        "# outputs = model(input_ids, mask = attention_mask)\n",
        "# print(outputs)\n",
        "# print(outputs.shape)\n",
        "# # loss = outputs[0]\n",
        "# loss = criterion(outputs, labels)\n",
        "# print(loss)"
      ],
      "execution_count": null,
      "outputs": []
    },
    {
      "cell_type": "code",
      "metadata": {
        "trusted": true,
        "id": "r19ICEwghhUu"
      },
      "source": [
        "validation_split = .4\n",
        "shuffle_dataset = True\n",
        "random_seed= 42\n",
        "\n",
        "batch_size = 200\n",
        "# train_set = torch.utils.data.TensorDataset(self.reviews, self.ratings)\n",
        "dataset_size = len(train_dataset)\n",
        "indices = list(range(dataset_size))\n",
        "split = int(np.floor(validation_split * dataset_size))\n",
        "if shuffle_dataset :\n",
        "    np.random.seed(random_seed)\n",
        "    np.random.shuffle(indices)\n",
        "train_indices, val_indices = indices[split:], indices[:split]\n",
        "\n",
        "# Creating PT data samplers and loaders:\n",
        "train_sampler = SubsetRandomSampler(train_indices)\n",
        "valid_sampler = SubsetRandomSampler(val_indices)\n",
        "\n",
        "train_loader = torch.utils.data.DataLoader(train_dataset, batch_size=batch_size, \n",
        "                                        sampler=train_sampler, drop_last=True)\n",
        "val_loader = torch.utils.data.DataLoader(train_dataset, batch_size=batch_size,\n",
        "                                        sampler=valid_sampler, drop_last=False)\n",
        "train_length = dataset_size - split\n",
        "val_length = split"
      ],
      "execution_count": null,
      "outputs": []
    },
    {
      "cell_type": "code",
      "metadata": {
        "trusted": true,
        "id": "acHh5GH9hhUu"
      },
      "source": [
        "# train_loader = DataLoader(train_dataset, batch_size=250, sampler=weight_sampler)\n",
        "# val_loader = DataLoader(val_dataset, batch_size=250, shuffle=True, drop_last=True)\n",
        "criterion = torch.nn.CrossEntropyLoss()\n",
        "optim = AdamW(model.parameters(), lr=5e-4)\n",
        "total_epochs = 20"
      ],
      "execution_count": null,
      "outputs": []
    },
    {
      "cell_type": "code",
      "metadata": {
        "trusted": true,
        "id": "N2dDRyIZhhUv"
      },
      "source": [
        "for i in train_loader:\n",
        "    print(i)"
      ],
      "execution_count": null,
      "outputs": []
    },
    {
      "cell_type": "code",
      "metadata": {
        "trusted": true,
        "id": "ElS8jnaUhhUv"
      },
      "source": [
        "print(len(train_loader))\n",
        "print(val_length)"
      ],
      "execution_count": null,
      "outputs": []
    },
    {
      "cell_type": "code",
      "metadata": {
        "trusted": true,
        "id": "L_sag408hhUv"
      },
      "source": [
        "history = []\n",
        "\n",
        "for epoch in range(total_epochs):\n",
        "    trainLoss = 0.0\n",
        "    trainAcc = 0.0\n",
        "\n",
        "    validLoss = 0.0\n",
        "    validAcc = 0.0\n",
        "    \n",
        "    epochStart = time.time()\n",
        "    print(\"Epoch: {}/{}\".format(epoch+1, total_epochs))\n",
        "    \n",
        "    for i, batch in enumerate(train_loader):\n",
        "        optim.zero_grad()\n",
        "        input_ids = batch['input_ids'].to(device)\n",
        "        attention_mask = batch['attention_mask'].to(device)\n",
        "        labels = batch['label'].to(device)        \n",
        "        outputs = model(input_ids, mask = attention_mask)\n",
        "        loss = criterion(outputs, labels)\n",
        "        loss.backward()\n",
        "        optim.step()\n",
        "        trainLoss += loss.item() * input_ids.size(0)\n",
        "        _, predictions = torch.max(outputs.data, 1)\n",
        "        corrCounts = predictions.eq(labels.data.view_as(predictions))\n",
        "        acc = torch.mean(corrCounts.type(torch.FloatTensor))\n",
        "        trainAcc += acc.item() * input_ids.size(0)\n",
        "        if i%20==0:\n",
        "            print(\"Batch number: {:03d}, Training: Loss: {:.4f}, Accuracy: {:.4f}\".format(i, loss.item(), acc.item()))\n",
        "\n",
        "    with torch.no_grad():\n",
        "\n",
        "        # Set to evaluation mode\n",
        "        model.eval()\n",
        "\n",
        "        # Validation loop\n",
        "        for j, batch in enumerate(val_loader):\n",
        "            input_ids = batch['input_ids'].to(device)\n",
        "            attention_mask = batch['attention_mask'].to(device)\n",
        "            labels = batch['label'].to(device)\n",
        "\n",
        "            # Forward pass - compute outputs on input data using the model\n",
        "            outputs = model(input_ids, mask = attention_mask)\n",
        "\n",
        "            # Compute loss\n",
        "            loss = criterion(outputs, labels)\n",
        "\n",
        "            # Compute the total loss for the batch and add it to validLoss\n",
        "            validLoss += loss.item() * input_ids.size(0)\n",
        "\n",
        "            # Calculate validation accuracy\n",
        "            _, predictions = torch.max(outputs.data, 1)\n",
        "            corrCounts = predictions.eq(labels.data.view_as(predictions))\n",
        "\n",
        "            # Convert corrCounts to float and then compute the mean\n",
        "            acc = torch.mean(corrCounts.type(torch.FloatTensor))\n",
        "\n",
        "            # Compute total accuracy in the whole batch and add to validAcc\n",
        "            validAcc += acc.item() * input_ids.size(0)\n",
        "            if j%10==0:\n",
        "                print(\"Validation Batch number: {:03d}, Validation: Loss: {:.4f}, Accuracy: {:.4f}\".format(j, loss.item(), acc.item()))\n",
        "            \n",
        "    model_path = os.path.join('./', str(epoch)+'_model.pt')\n",
        "    torch.save(model, model_path)\n",
        "    print('Saved Model checkpoints')\n",
        "\n",
        "    # Find average training loss and training accuracy\n",
        "    trainLossAvg = trainLoss/train_length\n",
        "    trainAccAvg = trainAcc/train_length\n",
        "\n",
        "    # Find average training loss and training accuracy\n",
        "    validLossAvg = validLoss/val_length\n",
        "    validAccAvg = validAcc/val_length\n",
        "\n",
        "    history.append([trainLossAvg, validLossAvg, trainAccAvg, validAccAvg])\n",
        "\n",
        "    epochEnd = time.time()\n",
        "\n",
        "    print(\"Epoch : {:03d}, Training: Loss : {:.4f}, Accuracy: {:.4f}%\".format(epoch, trainLossAvg, trainAccAvg*100))\n",
        "    print(\"Validation : Loss : {:.4f}, Accuracy: {:.4f}%, Time: {:.4f}s\".format(validLossAvg, validAccAvg*100, epochEnd-epochStart))"
      ],
      "execution_count": null,
      "outputs": []
    },
    {
      "cell_type": "code",
      "metadata": {
        "trusted": true,
        "id": "R4iGo1NUhhUw"
      },
      "source": [
        "test_loader = DataLoader(val_dataset, batch_size=1, shuffle=False)"
      ],
      "execution_count": null,
      "outputs": []
    },
    {
      "cell_type": "code",
      "metadata": {
        "trusted": true,
        "id": "xxxiMWcvhhUw"
      },
      "source": [
        "# saved_model = torch.load('./23_model.pt')"
      ],
      "execution_count": null,
      "outputs": []
    },
    {
      "cell_type": "code",
      "metadata": {
        "trusted": true,
        "id": "9FSx8ee_hhUx",
        "outputId": "2b4176b7-6003-420f-d3ac-1aac8b33ca34"
      },
      "source": [
        "test_acc = 0.0\n",
        "test_loss = 0.0\n",
        "test_preds = []\n",
        "\n",
        "# Validation - No gradient tracking needed\n",
        "with torch.no_grad():\n",
        "\n",
        "    # Set to evaluation mode\n",
        "    saved_model.eval()\n",
        "\n",
        "    # Validation loop\n",
        "    for j, batch in enumerate(test_loader):\n",
        "        input_ids = batch['input_ids'].to(device)\n",
        "        attention_mask = batch['attention_mask'].to(device)\n",
        "\n",
        "        outputs = saved_model(input_ids, mask = attention_mask)\n",
        "\n",
        "        _, predictions = torch.max(outputs.data, 1)\n",
        "        test_preds.append(predictions[0].item()+1)\n",
        "#         print(predictions[0].item())"
      ],
      "execution_count": null,
      "outputs": [
        {
          "output_type": "stream",
          "text": [
            "/opt/conda/lib/python3.7/site-packages/ipykernel_launcher.py:12: UserWarning: To copy construct from a tensor, it is recommended to use sourceTensor.clone().detach() or sourceTensor.clone().detach().requires_grad_(True), rather than torch.tensor(sourceTensor).\n",
            "  if sys.path[0] == '':\n",
            "/opt/conda/lib/python3.7/site-packages/ipykernel_launcher.py:13: UserWarning: To copy construct from a tensor, it is recommended to use sourceTensor.clone().detach() or sourceTensor.clone().detach().requires_grad_(True), rather than torch.tensor(sourceTensor).\n",
            "  del sys.path[0]\n"
          ],
          "name": "stderr"
        }
      ]
    },
    {
      "cell_type": "code",
      "metadata": {
        "trusted": true,
        "id": "6YtRq5OhhhUx",
        "outputId": "a6f855a3-066e-4544-f9c6-f7842d1b3ff1"
      },
      "source": [
        "len(test_preds)"
      ],
      "execution_count": null,
      "outputs": [
        {
          "output_type": "execute_result",
          "data": {
            "text/plain": [
              "10000"
            ]
          },
          "metadata": {
            "tags": []
          },
          "execution_count": 50
        }
      ]
    },
    {
      "cell_type": "code",
      "metadata": {
        "trusted": true,
        "id": "lTtptQA9hhUx",
        "outputId": "7a37eaf0-eeb0-4bbb-d6f9-f781af5ed24b"
      },
      "source": [
        "from sklearn.metrics import classification_report\n",
        "test_preds = np.array(test_preds)\n",
        "print(classification_report(val_labels, test_preds))"
      ],
      "execution_count": null,
      "outputs": [
        {
          "output_type": "stream",
          "text": [
            "              precision    recall  f1-score   support\n",
            "\n",
            "           1       0.57      0.67      0.62      1271\n",
            "           2       0.22      0.32      0.26       630\n",
            "           3       0.32      0.33      0.32       911\n",
            "           4       0.30      0.43      0.36      1404\n",
            "           5       0.90      0.73      0.81      5784\n",
            "\n",
            "    accuracy                           0.62     10000\n",
            "   macro avg       0.46      0.50      0.47     10000\n",
            "weighted avg       0.68      0.62      0.64     10000\n",
            "\n"
          ],
          "name": "stdout"
        }
      ]
    },
    {
      "cell_type": "code",
      "metadata": {
        "trusted": true,
        "id": "5HiLmGr7hhUx",
        "outputId": "e5fadfe4-9938-4d0d-8e53-28459d31ff0f"
      },
      "source": [
        "from sklearn.metrics import confusion_matrix\n",
        "print(confusion_matrix(val_labels, test_preds))"
      ],
      "execution_count": null,
      "outputs": [
        {
          "output_type": "stream",
          "text": [
            "[[ 848  275   78   43   27]\n",
            " [ 228  203  112   66   21]\n",
            " [ 143  238  298  185   47]\n",
            " [  69   97  274  599  365]\n",
            " [ 195   95  172 1072 4250]]\n"
          ],
          "name": "stdout"
        }
      ]
    },
    {
      "cell_type": "code",
      "metadata": {
        "trusted": true,
        "id": "x52-cUSlhhUy"
      },
      "source": [
        "# import lime\n",
        "# import torch\n",
        "# import torch.nn.functional as F\n",
        "# from lime.lime_text import LimeTextExplainer"
      ],
      "execution_count": null,
      "outputs": []
    },
    {
      "cell_type": "code",
      "metadata": {
        "trusted": true,
        "id": "Doe31lRhhhUy"
      },
      "source": [
        "# texts = []\n",
        "# for i in val_texts:\n",
        "#     texts.append(i)"
      ],
      "execution_count": null,
      "outputs": []
    },
    {
      "cell_type": "code",
      "metadata": {
        "trusted": true,
        "id": "uzt183OzhhUy"
      },
      "source": [
        "# def predictor(texts):\n",
        "#     tokens = tokenizer(texts, return_tensors='pt', padding=True)\n",
        "#     output = model(tokens['input_ids'].to(device), tokens['attention_mask'].to(device))\n",
        "#     tensor_logits = output\n",
        "#     probas = F.softmax(tensor_logits).cpu().detach().numpy()\n",
        "#     return probas"
      ],
      "execution_count": null,
      "outputs": []
    },
    {
      "cell_type": "code",
      "metadata": {
        "trusted": true,
        "id": "pvcBLCekhhUy"
      },
      "source": [
        "# def predict_label(texts):\n",
        "#     tokens = tokenizer(texts, return_tensors='pt', padding=True)\n",
        "#     model.eval()\n",
        "#     output = saved_model(tokens['input_ids'].to(device), tokens['attention_mask'].to(device))\n",
        "#     tensor_logits = output\n",
        "#     probas = F.softmax(tensor_logits).cpu().detach().numpy()\n",
        "#     val_pred = np.argmax(probas, axis=1)\n",
        "#     return val_pred+1"
      ],
      "execution_count": null,
      "outputs": []
    },
    {
      "cell_type": "code",
      "metadata": {
        "trusted": true,
        "id": "8LqAUNMxhhUz"
      },
      "source": [
        "# texts = texts[:100]"
      ],
      "execution_count": null,
      "outputs": []
    },
    {
      "cell_type": "code",
      "metadata": {
        "trusted": true,
        "id": "to-d31I3hhUz",
        "outputId": "115fd4e0-b8ae-4350-f11e-dd5706f656eb"
      },
      "source": [
        "# labels = predict_label(texts)\n",
        "# labels"
      ],
      "execution_count": null,
      "outputs": [
        {
          "output_type": "stream",
          "text": [
            "/opt/conda/lib/python3.7/site-packages/ipykernel_launcher.py:5: UserWarning: Implicit dimension choice for softmax has been deprecated. Change the call to include dim=X as an argument.\n",
            "  \"\"\"\n"
          ],
          "name": "stderr"
        },
        {
          "output_type": "execute_result",
          "data": {
            "text/plain": [
              "array([1, 1, 2, 2, 2, 4, 1, 5, 1, 2, 2, 1, 4, 2, 1, 1, 1, 1, 1, 1, 1, 2,\n",
              "       1, 4, 5, 4, 5, 5, 5, 4, 5, 5, 5, 4, 2, 4, 5, 4, 5, 5, 5, 5, 5, 5,\n",
              "       1, 4, 5, 4, 4, 4, 2, 3, 2, 4, 4, 3, 3, 2, 3, 5, 5, 4, 4, 5, 5, 5,\n",
              "       3, 4, 3, 5, 5, 5, 5, 5, 5, 2, 2, 5, 5, 4, 5, 5, 5, 5, 5, 5, 5, 5,\n",
              "       5, 5, 5, 5, 5, 4, 5, 4, 4, 5, 3, 5])"
            ]
          },
          "metadata": {
            "tags": []
          },
          "execution_count": 31
        }
      ]
    },
    {
      "cell_type": "code",
      "metadata": {
        "id": "xSb4sE3ShhUz"
      },
      "source": [
        ""
      ],
      "execution_count": null,
      "outputs": []
    },
    {
      "cell_type": "code",
      "metadata": {
        "trusted": true,
        "id": "clsfJJSkhhUz"
      },
      "source": [
        "# text = 'Building more bypasses will help the environment by reducing pollution and traffic jams in towns and cities.'\n",
        "# print(tokenizer(text, return_tensors='pt', padding=True))"
      ],
      "execution_count": null,
      "outputs": []
    },
    {
      "cell_type": "code",
      "metadata": {
        "trusted": true,
        "id": "WRT_QlKrhhUz"
      },
      "source": [
        "# data=[\"This product is okay.\",\"The product is not fine\",\"The product is not good, just okay!.\"]\n",
        "# print(tokenizer(data, return_tensors='pt', padding=True))"
      ],
      "execution_count": null,
      "outputs": []
    },
    {
      "cell_type": "code",
      "metadata": {
        "trusted": true,
        "id": "CmxmEyTwhhUz"
      },
      "source": [
        "# tokens = tokenizer(data, return_tensors='pt', padding=True)\n",
        "# output = model(tokens['input_ids'].to(device), tokens['attention_mask'].to(device))\n",
        "# tensor_logits = output\n",
        "# probas = F.softmax(tensor_logits).cpu().detach().numpy()\n",
        "# probas"
      ],
      "execution_count": null,
      "outputs": []
    },
    {
      "cell_type": "code",
      "metadata": {
        "trusted": true,
        "id": "yMDtUFfXhhU0"
      },
      "source": [
        "# idx = 54\n",
        "# text = train_texts[idx]\n",
        "# label = train_labels[idx]\n",
        "# explainer = LimeTextExplainer(class_names=['1','2','3','4','5'])\n",
        "# exp = explainer.explain_instance(text, predictor, (label-1,), num_features=10, num_samples=1000)\n",
        "# print(\"True Label : \", label)\n",
        "# exp.show_in_notebook(text=text)"
      ],
      "execution_count": null,
      "outputs": []
    },
    {
      "cell_type": "code",
      "metadata": {
        "trusted": true,
        "id": "JVzQ8vWPhhU0"
      },
      "source": [
        "# torch.cuda.empty_cache()"
      ],
      "execution_count": null,
      "outputs": []
    }
  ]
}